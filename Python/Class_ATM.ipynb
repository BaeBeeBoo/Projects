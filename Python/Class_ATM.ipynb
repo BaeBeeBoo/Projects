{
  "nbformat": 4,
  "nbformat_minor": 0,
  "metadata": {
    "colab": {
      "provenance": []
    },
    "kernelspec": {
      "name": "python3",
      "display_name": "Python 3"
    },
    "language_info": {
      "name": "python"
    }
  },
  "cells": [
    {
      "cell_type": "code",
      "execution_count": null,
      "metadata": {
        "id": "KaRVJYTrRO1M"
      },
      "outputs": [],
      "source": [
        "import random\n",
        "\n",
        "class ATM:\n",
        "    def __init__(self, account_number, name, pin, balance):\n",
        "        self.account_number = account_number\n",
        "        self.name = name\n",
        "        self.pin = pin\n",
        "        self.balance = balance\n",
        "\n",
        "    # 1st method - login\n",
        "    def login(self):\n",
        "        print(\"Welcome to the ATM machine.\")\n",
        "        enter_pin = input(\"Please enter your pin: \")\n",
        "        wrong = 0\n",
        "        attempt = 3\n",
        "        while True:\n",
        "            if self.pin == enter_pin:\n",
        "                print(\"Success! What do you want to do next?\")\n",
        "                break\n",
        "\n",
        "            else:\n",
        "                wrong += 1\n",
        "                enter_pin = input(\"Incorrect pin! Please try again: \")\n",
        "            if wrong == 3:\n",
        "                    print(\"Your card has been blocked. Please contact bank.\")\n",
        "                    break\n",
        "        return\n",
        "\n",
        "    # 2nd method - deposit\n",
        "    def deposit(self):\n",
        "            while True:\n",
        "                depositor = input(f\"Do you want to deposit to this {self.account_number} account? (Yes/No): \")\n",
        "                if depositor.lower() == \"yes\":\n",
        "                        user_deposit = int(input(\"Enter the amount to deposit: \"))\n",
        "                        self.balance = self.balance + user_deposit\n",
        "                        print(f\"Deposit successfully!, Your Balance is: {self.balance}\")\n",
        "                        print(\"Thank you for using the ATM machine.\")\n",
        "                else:\n",
        "                         print(\"Return to the main menu.\")\n",
        "                break\n",
        "                return\n",
        "\n",
        "    # 3rd method - withdraw\n",
        "    def withdrawn(self):\n",
        "            while True:\n",
        "                withdrawer = input(f\"Do you want to deposit to this {self.account_number} account? (Yes/No): \")\n",
        "                if  withdrawer.lower() == \"yes\":\n",
        "                        user_withdrawn = int(input(\"Enter the amount to withdraw: \"))\n",
        "                        user_confirm = input(f\"Do you want to withdrawn {user_withdrawn} Baht from {self.account_number} (Yes/No): \")\n",
        "\n",
        "                        if user_confirm.lower() == \"yes\":\n",
        "                            self.balance = self.balance - user_withdrawn\n",
        "                            print(f\"Withdrawn successfully!, Your Balance is: {self.balance}\")\n",
        "                            print(\"Please remember to take your cash and card with you.\")\n",
        "                else:\n",
        "                        print(\"Return to the main menu.\")\n",
        "                break\n",
        "                return\n",
        "\n",
        "    # 4th method - transfer\n",
        "    def transfer(self):\n",
        "            while True:\n",
        "                transference = input(\"Enter the recipient account number for your transfer: \")\n",
        "                if len(transference) == 9:\n",
        "                    transfer_amount = int(input(\"Enter the amount you want to transfer: \"))\n",
        "                    transfer_confirm = input(f\"Do you want to transfer {transfer_amount} Baht to {transference} (Yes/No): \")\n",
        "                    if transfer_confirm.lower() == \"yes\":\n",
        "                        self.balance = self.balance - transfer_amount\n",
        "                        print(f\"Transfer successfully!, Your Balance is: {self.balance}\")\n",
        "                        break\n",
        "                    else:\n",
        "                        print(\"Return to the main menu.\")\n",
        "                        break\n",
        "\n",
        "                else:\n",
        "                    recheck = input(\"Oops! The account number you entered doesn't seem to be valid. Would you like to re-enter it? (Yes/No): \")\n",
        "                    if recheck.lower() != \"yes\":\n",
        "                        print(\"Thank you for using the ATM machine.\")\n",
        "                        break\n",
        "            return\n",
        "\n",
        "    # 5th method - OTP request\n",
        "    def otp(self):\n",
        "        random_otp = []\n",
        "        for i in range(0,4):\n",
        "            n = random.randint(0,9)\n",
        "            random_otp.append(n)\n",
        "        request = input(\"Enter your pin to request OTP: \")\n",
        "        wrong_otp = 0\n",
        "        attempt_otp = 3\n",
        "        while True:\n",
        "            if self.pin == request:\n",
        "                print(f\"Success! Your OTP is: {random_otp}\")\n",
        "                break\n",
        "\n",
        "            else:\n",
        "                wrong_otp += 1\n",
        "                request = input(\"Incorrect pin! Please try again: \")\n",
        "            if wrong_otp == 3:\n",
        "                    print(\"Your card has been blocked. Please contact bank.\")\n",
        "                    break\n",
        "        return"
      ]
    },
    {
      "cell_type": "code",
      "source": [
        "# create a new instance\n",
        "atm = ATM(\"123456789\", \"Baebeeboo\", \"111111\", 50000)"
      ],
      "metadata": {
        "id": "I3m9FNYfUb6N"
      },
      "execution_count": null,
      "outputs": []
    },
    {
      "cell_type": "code",
      "source": [
        "atm.login()"
      ],
      "metadata": {
        "colab": {
          "base_uri": "https://localhost:8080/"
        },
        "id": "1axEpbbIUfOd",
        "outputId": "bae10db7-3059-4500-aab6-f866b804477d"
      },
      "execution_count": null,
      "outputs": [
        {
          "output_type": "stream",
          "name": "stdout",
          "text": [
            "Welcome to the ATM machine.\n",
            "Please enter your pin: 111111\n",
            "Success! What do you want to do next?\n"
          ]
        }
      ]
    },
    {
      "cell_type": "code",
      "source": [
        "atm.deposit()"
      ],
      "metadata": {
        "colab": {
          "base_uri": "https://localhost:8080/"
        },
        "id": "9sJ-6uSTUhek",
        "outputId": "d1b9423e-6003-4362-ed35-365d948613be"
      },
      "execution_count": null,
      "outputs": [
        {
          "output_type": "stream",
          "name": "stdout",
          "text": [
            "Do you want to deposit to this 123456789 account? (Yes/No): Yes\n",
            "Enter the amount to deposit: 500\n",
            "Deposit successfully!, Your Balance is: 50500\n",
            "Thank you for using the ATM machine.\n"
          ]
        }
      ]
    },
    {
      "cell_type": "code",
      "source": [
        "atm.withdrawn()"
      ],
      "metadata": {
        "colab": {
          "base_uri": "https://localhost:8080/"
        },
        "id": "K5Z-Kr2wUj-9",
        "outputId": "a53a2d0a-d5b0-4580-8ef2-d1aab008a607"
      },
      "execution_count": null,
      "outputs": [
        {
          "output_type": "stream",
          "name": "stdout",
          "text": [
            "Do you want to deposit to this 123456789 account? (Yes/No): Yes\n",
            "Enter the amount to withdraw: 1000\n",
            "Do you want to withdrawn 1000 Baht from 123456789 (Yes/No): Yes\n",
            "Withdrawn successfully!, Your Balance is: 49500\n",
            "Please remember to take your cash and card with you.\n"
          ]
        }
      ]
    },
    {
      "cell_type": "code",
      "source": [
        "atm.transfer()"
      ],
      "metadata": {
        "colab": {
          "base_uri": "https://localhost:8080/"
        },
        "id": "AmbIwN4sUmX4",
        "outputId": "f5797f3b-a12a-4b24-bc07-33e6325ba0c8"
      },
      "execution_count": null,
      "outputs": [
        {
          "output_type": "stream",
          "name": "stdout",
          "text": [
            "Enter the recipient account number for your transfer: 45678345\n",
            "Oops! The account number you entered doesn't seem to be valid. Would you like to re-enter it? (Yes/No): No\n",
            "Thank you for using the ATM machine.\n"
          ]
        }
      ]
    },
    {
      "cell_type": "code",
      "source": [
        "atm.otp()"
      ],
      "metadata": {
        "colab": {
          "base_uri": "https://localhost:8080/"
        },
        "id": "I5Eh6v4BUoo5",
        "outputId": "86f846c9-5dfe-4c64-f5f3-0ff6ea6c20be"
      },
      "execution_count": null,
      "outputs": [
        {
          "output_type": "stream",
          "name": "stdout",
          "text": [
            "Enter your pin to request OTP: 123456\n",
            "Incorrect pin! Please try again: 111111\n",
            "Success! Your OTP is: [2, 2, 9, 2]\n"
          ]
        }
      ]
    }
  ]
}