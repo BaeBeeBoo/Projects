{
 "cells":[
  {
   "cell_type":"markdown",
   "source":[
    "# Coffee Chain Sales Analysis"
   ],
   "attachments":{
    
   },
   "metadata":{
    "datalore":{
     "node_id":"PfS19JyKiLhGjjLVmRORBz",
     "type":"MD",
     "hide_input_from_viewers":true,
     "hide_output_from_viewers":true
    }
   }
  },
  {
   "cell_type":"code",
   "source":[
    "# Import libraries\n",
    "import pandas as pd\n",
    "import matplotlib.pyplot as plt"
   ],
   "execution_count":1,
   "outputs":[
    
   ],
   "metadata":{
    "datalore":{
     "node_id":"vflzVjqHbtKdDdADRRkZOq",
     "type":"CODE",
     "hide_input_from_viewers":true,
     "hide_output_from_viewers":true
    }
   }
  },
  {
   "cell_type":"code",
   "source":[
    "# Import data\n",
    "df = pd.read_csv(\"Coffee_Chain_Sales .csv\")\n",
    "df.head()"
   ],
   "execution_count":2,
   "outputs":[
    {
     "data":{
      "text\/html":[
       "<div>\n",
       "<style scoped>\n",
       "    .dataframe tbody tr th:only-of-type {\n",
       "        vertical-align: middle;\n",
       "    }\n",
       "\n",
       "    .dataframe tbody tr th {\n",
       "        vertical-align: top;\n",
       "    }\n",
       "\n",
       "    .dataframe thead th {\n",
       "        text-align: right;\n",
       "    }\n",
       "<\/style>\n",
       "<table border=\"1\" class=\"dataframe\">\n",
       "  <thead>\n",
       "    <tr style=\"text-align: right;\">\n",
       "      <th><\/th>\n",
       "      <th>Area Code<\/th>\n",
       "      <th>Cogs<\/th>\n",
       "      <th>DifferenceBetweenActualandTargetProfit<\/th>\n",
       "      <th>Date<\/th>\n",
       "      <th>Inventory Margin<\/th>\n",
       "      <th>Margin<\/th>\n",
       "      <th>Market_size<\/th>\n",
       "      <th>Market<\/th>\n",
       "      <th>Marketing<\/th>\n",
       "      <th>Product_line<\/th>\n",
       "      <th>...<\/th>\n",
       "      <th>Product<\/th>\n",
       "      <th>Profit<\/th>\n",
       "      <th>Sales<\/th>\n",
       "      <th>State<\/th>\n",
       "      <th>Target_cogs<\/th>\n",
       "      <th>Target_margin<\/th>\n",
       "      <th>Target_profit<\/th>\n",
       "      <th>Target_sales<\/th>\n",
       "      <th>Total_expenses<\/th>\n",
       "      <th>Type<\/th>\n",
       "    <\/tr>\n",
       "  <\/thead>\n",
       "  <tbody>\n",
       "    <tr>\n",
       "      <th>0<\/th>\n",
       "      <td>303<\/td>\n",
       "      <td>51<\/td>\n",
       "      <td>-35<\/td>\n",
       "      <td>10\/1\/2012<\/td>\n",
       "      <td>503<\/td>\n",
       "      <td>71<\/td>\n",
       "      <td>Major Market<\/td>\n",
       "      <td>Central<\/td>\n",
       "      <td>46<\/td>\n",
       "      <td>Leaves<\/td>\n",
       "      <td>...<\/td>\n",
       "      <td>Lemon<\/td>\n",
       "      <td>-5<\/td>\n",
       "      <td>122<\/td>\n",
       "      <td>Colorado<\/td>\n",
       "      <td>30<\/td>\n",
       "      <td>60<\/td>\n",
       "      <td>30<\/td>\n",
       "      <td>90<\/td>\n",
       "      <td>76<\/td>\n",
       "      <td>Decaf<\/td>\n",
       "    <\/tr>\n",
       "    <tr>\n",
       "      <th>1<\/th>\n",
       "      <td>970<\/td>\n",
       "      <td>52<\/td>\n",
       "      <td>-24<\/td>\n",
       "      <td>10\/1\/2012<\/td>\n",
       "      <td>405<\/td>\n",
       "      <td>71<\/td>\n",
       "      <td>Major Market<\/td>\n",
       "      <td>Central<\/td>\n",
       "      <td>17<\/td>\n",
       "      <td>Leaves<\/td>\n",
       "      <td>...<\/td>\n",
       "      <td>Mint<\/td>\n",
       "      <td>26<\/td>\n",
       "      <td>123<\/td>\n",
       "      <td>Colorado<\/td>\n",
       "      <td>30<\/td>\n",
       "      <td>60<\/td>\n",
       "      <td>50<\/td>\n",
       "      <td>90<\/td>\n",
       "      <td>45<\/td>\n",
       "      <td>Decaf<\/td>\n",
       "    <\/tr>\n",
       "    <tr>\n",
       "      <th>2<\/th>\n",
       "      <td>409<\/td>\n",
       "      <td>43<\/td>\n",
       "      <td>-22<\/td>\n",
       "      <td>10\/2\/2012<\/td>\n",
       "      <td>419<\/td>\n",
       "      <td>64<\/td>\n",
       "      <td>Major Market<\/td>\n",
       "      <td>South<\/td>\n",
       "      <td>13<\/td>\n",
       "      <td>Leaves<\/td>\n",
       "      <td>...<\/td>\n",
       "      <td>Lemon<\/td>\n",
       "      <td>28<\/td>\n",
       "      <td>107<\/td>\n",
       "      <td>Texas<\/td>\n",
       "      <td>30<\/td>\n",
       "      <td>60<\/td>\n",
       "      <td>50<\/td>\n",
       "      <td>90<\/td>\n",
       "      <td>36<\/td>\n",
       "      <td>Decaf<\/td>\n",
       "    <\/tr>\n",
       "    <tr>\n",
       "      <th>3<\/th>\n",
       "      <td>850<\/td>\n",
       "      <td>38<\/td>\n",
       "      <td>-15<\/td>\n",
       "      <td>10\/3\/2012<\/td>\n",
       "      <td>871<\/td>\n",
       "      <td>56<\/td>\n",
       "      <td>Major Market<\/td>\n",
       "      <td>East<\/td>\n",
       "      <td>10<\/td>\n",
       "      <td>Leaves<\/td>\n",
       "      <td>...<\/td>\n",
       "      <td>Darjeeling<\/td>\n",
       "      <td>35<\/td>\n",
       "      <td>94<\/td>\n",
       "      <td>Florida<\/td>\n",
       "      <td>40<\/td>\n",
       "      <td>60<\/td>\n",
       "      <td>50<\/td>\n",
       "      <td>100<\/td>\n",
       "      <td>21<\/td>\n",
       "      <td>Regular<\/td>\n",
       "    <\/tr>\n",
       "    <tr>\n",
       "      <th>4<\/th>\n",
       "      <td>562<\/td>\n",
       "      <td>72<\/td>\n",
       "      <td>6<\/td>\n",
       "      <td>10\/4\/2012<\/td>\n",
       "      <td>650<\/td>\n",
       "      <td>110<\/td>\n",
       "      <td>Major Market<\/td>\n",
       "      <td>West<\/td>\n",
       "      <td>23<\/td>\n",
       "      <td>Leaves<\/td>\n",
       "      <td>...<\/td>\n",
       "      <td>Green Tea<\/td>\n",
       "      <td>56<\/td>\n",
       "      <td>182<\/td>\n",
       "      <td>California<\/td>\n",
       "      <td>20<\/td>\n",
       "      <td>60<\/td>\n",
       "      <td>50<\/td>\n",
       "      <td>80<\/td>\n",
       "      <td>54<\/td>\n",
       "      <td>Regular<\/td>\n",
       "    <\/tr>\n",
       "  <\/tbody>\n",
       "<\/table>\n",
       "<p>5 rows × 21 columns<\/p>\n",
       "<\/div>"
      ]
     },
     "metadata":{
      
     },
     "output_type":"display_data"
    }
   ],
   "metadata":{
    "datalore":{
     "node_id":"KU2cqC8Db4Ht9gHIZTXpFH",
     "type":"CODE",
     "hide_input_from_viewers":true,
     "hide_output_from_viewers":true
    }
   }
  },
  {
   "cell_type":"code",
   "source":[
    "df.shape"
   ],
   "execution_count":3,
   "outputs":[
    {
     "data":{
      "text\/plain":[
       "(1062, 21)"
      ]
     },
     "metadata":{
      
     },
     "output_type":"display_data"
    }
   ],
   "metadata":{
    "datalore":{
     "node_id":"B1GqiNVWXjkxsjHjPh61Ke",
     "type":"CODE",
     "hide_input_from_viewers":true,
     "hide_output_from_viewers":true
    }
   }
  },
  {
   "cell_type":"code",
   "source":[
    "df.info()"
   ],
   "execution_count":4,
   "outputs":[
    {
     "name":"stdout",
     "text":[
      "<class 'pandas.core.frame.DataFrame'>\n",
      "RangeIndex: 1062 entries, 0 to 1061\n",
      "Data columns (total 21 columns):\n",
      " #   Column                                  Non-Null Count  Dtype \n",
      "---  ------                                  --------------  ----- \n",
      " 0   Area Code                               1062 non-null   int64 \n",
      " 1   Cogs                                    1062 non-null   int64 \n",
      " 2   DifferenceBetweenActualandTargetProfit  1062 non-null   int64 \n",
      " 3   Date                                    1062 non-null   object\n",
      " 4   Inventory Margin                        1062 non-null   int64 \n",
      " 5   Margin                                  1062 non-null   int64 \n",
      " 6   Market_size                             1062 non-null   object\n",
      " 7   Market                                  1062 non-null   object\n",
      " 8   Marketing                               1062 non-null   int64 \n",
      " 9   Product_line                            1062 non-null   object\n",
      " 10  Product_type                            1062 non-null   object\n",
      " 11  Product                                 1062 non-null   object\n",
      " 12  Profit                                  1062 non-null   int64 \n",
      " 13  Sales                                   1062 non-null   int64 \n",
      " 14  State                                   1062 non-null   object\n",
      " 15  Target_cogs                             1062 non-null   int64 \n",
      " 16  Target_margin                           1062 non-null   int64 \n",
      " 17  Target_profit                           1062 non-null   int64 \n",
      " 18  Target_sales                            1062 non-null   int64 \n",
      " 19  Total_expenses                          1062 non-null   int64 \n",
      " 20  Type                                    1062 non-null   object\n",
      "dtypes: int64(13), object(8)\n",
      "memory usage: 174.4+ KB\n"
     ],
     "output_type":"stream"
    }
   ],
   "metadata":{
    "datalore":{
     "node_id":"kRH13JaiNTsIGeVIj2XUli",
     "type":"CODE",
     "hide_input_from_viewers":true,
     "hide_output_from_viewers":true
    }
   }
  },
  {
   "cell_type":"code",
   "source":[
    "# Total products\n",
    "total_products = df['Product'].value_counts().reset_index()\n",
    "total_products"
   ],
   "execution_count":5,
   "outputs":[
    {
     "data":{
      "text\/html":[
       "<div>\n",
       "<style scoped>\n",
       "    .dataframe tbody tr th:only-of-type {\n",
       "        vertical-align: middle;\n",
       "    }\n",
       "\n",
       "    .dataframe tbody tr th {\n",
       "        vertical-align: top;\n",
       "    }\n",
       "\n",
       "    .dataframe thead th {\n",
       "        text-align: right;\n",
       "    }\n",
       "<\/style>\n",
       "<table border=\"1\" class=\"dataframe\">\n",
       "  <thead>\n",
       "    <tr style=\"text-align: right;\">\n",
       "      <th><\/th>\n",
       "      <th>index<\/th>\n",
       "      <th>Product<\/th>\n",
       "    <\/tr>\n",
       "  <\/thead>\n",
       "  <tbody>\n",
       "    <tr>\n",
       "      <th>0<\/th>\n",
       "      <td>Lemon<\/td>\n",
       "      <td>120<\/td>\n",
       "    <\/tr>\n",
       "    <tr>\n",
       "      <th>1<\/th>\n",
       "      <td>Colombian<\/td>\n",
       "      <td>120<\/td>\n",
       "    <\/tr>\n",
       "    <tr>\n",
       "      <th>2<\/th>\n",
       "      <td>Caffe Mocha<\/td>\n",
       "      <td>120<\/td>\n",
       "    <\/tr>\n",
       "    <tr>\n",
       "      <th>3<\/th>\n",
       "      <td>Decaf Espresso<\/td>\n",
       "      <td>102<\/td>\n",
       "    <\/tr>\n",
       "    <tr>\n",
       "      <th>4<\/th>\n",
       "      <td>Darjeeling<\/td>\n",
       "      <td>96<\/td>\n",
       "    <\/tr>\n",
       "    <tr>\n",
       "      <th>5<\/th>\n",
       "      <td>Decaf Irish Cream<\/td>\n",
       "      <td>96<\/td>\n",
       "    <\/tr>\n",
       "    <tr>\n",
       "      <th>6<\/th>\n",
       "      <td>Chamomile<\/td>\n",
       "      <td>96<\/td>\n",
       "    <\/tr>\n",
       "    <tr>\n",
       "      <th>7<\/th>\n",
       "      <td>Green Tea<\/td>\n",
       "      <td>72<\/td>\n",
       "    <\/tr>\n",
       "    <tr>\n",
       "      <th>8<\/th>\n",
       "      <td>Earl Grey<\/td>\n",
       "      <td>72<\/td>\n",
       "    <\/tr>\n",
       "    <tr>\n",
       "      <th>9<\/th>\n",
       "      <td>Caffe Latte<\/td>\n",
       "      <td>54<\/td>\n",
       "    <\/tr>\n",
       "    <tr>\n",
       "      <th>10<\/th>\n",
       "      <td>Mint<\/td>\n",
       "      <td>48<\/td>\n",
       "    <\/tr>\n",
       "    <tr>\n",
       "      <th>11<\/th>\n",
       "      <td>Amaretto<\/td>\n",
       "      <td>48<\/td>\n",
       "    <\/tr>\n",
       "    <tr>\n",
       "      <th>12<\/th>\n",
       "      <td>Regular Espresso<\/td>\n",
       "      <td>18<\/td>\n",
       "    <\/tr>\n",
       "  <\/tbody>\n",
       "<\/table>\n",
       "<\/div>"
      ]
     },
     "metadata":{
      
     },
     "output_type":"display_data"
    }
   ],
   "metadata":{
    "datalore":{
     "node_id":"dqDVCnZBXU2Gp2kHhzZjw7",
     "type":"CODE",
     "hide_input_from_viewers":true,
     "hide_output_from_viewers":true
    }
   }
  },
  {
   "cell_type":"code",
   "source":[
    "# Total product categories\n",
    "product_types = df['Product_type'].value_counts()\n",
    "print('Total product categories:\\n', product_types)"
   ],
   "execution_count":6,
   "outputs":[
    {
     "name":"stdout",
     "text":[
      "Total product categories:\n",
      " Espresso      294\n",
      "Herbal Tea    264\n",
      "Coffee        264\n",
      "Tea           240\n",
      "Name: Product_type, dtype: int64\n"
     ],
     "output_type":"stream"
    }
   ],
   "metadata":{
    "datalore":{
     "node_id":"KFc0sS5TWQqV8v5jLToryw",
     "type":"CODE",
     "hide_input_from_viewers":true,
     "hide_output_from_viewers":true
    }
   }
  },
  {
   "cell_type":"code",
   "source":[
    "df['Date']=pd.to_datetime(df['Date'])\n",
    "df['Date']"
   ],
   "execution_count":7,
   "outputs":[
    {
     "data":{
      "text\/html":[
       "<pre>0      2012-10-01\n",
       "1      2012-10-01\n",
       "2      2012-10-02\n",
       "3      2012-10-03\n",
       "4      2012-10-04\n",
       "          ...    \n",
       "1057   2015-08-23\n",
       "1058   2015-08-24\n",
       "1059   2015-08-25\n",
       "1060   2015-08-26\n",
       "1061   2015-08-27\n",
       "Name: Date, Length: 1062, dtype: datetime64[ns]<\/pre>"
      ]
     },
     "metadata":{
      
     },
     "output_type":"display_data"
    }
   ],
   "metadata":{
    "datalore":{
     "node_id":"LXQ9kTsB1pwJE6ZoLYi8OV",
     "type":"CODE",
     "hide_input_from_viewers":true,
     "hide_output_from_viewers":true
    }
   }
  },
  {
   "cell_type":"code",
   "source":[
    "# Total Sales by Year\n",
    "sales_by_year = df.groupby(df['Date'].dt.year)['Sales'].sum()\n",
    "print(\"Total Sales by Year:\\n\", sales_by_year)"
   ],
   "execution_count":8,
   "outputs":[
    {
     "name":"stdout",
     "text":[
      "Total Sales by Year:\n",
      " Date\n",
      "2012    10861\n",
      "2013    38898\n",
      "2014    84982\n",
      "2015    68154\n",
      "Name: Sales, dtype: int64\n"
     ],
     "output_type":"stream"
    }
   ],
   "metadata":{
    "datalore":{
     "node_id":"Nr6NkNGpXa7H1LqWMzoMBZ",
     "type":"CODE",
     "hide_input_from_viewers":true,
     "hide_output_from_viewers":true
    }
   }
  },
  {
   "cell_type":"code",
   "source":[
    "# Total Profit by Year\n",
    "profit_by_year = df.groupby(df['Date'].dt.year)['Profit'].sum()\n",
    "print(\"Total Profit by Year:\\n\", profit_by_year)"
   ],
   "execution_count":9,
   "outputs":[
    {
     "name":"stdout",
     "text":[
      "Total Profit by Year:\n",
      " Date\n",
      "2012     2493\n",
      "2013     9484\n",
      "2014    30380\n",
      "2015    21954\n",
      "Name: Profit, dtype: int64\n"
     ],
     "output_type":"stream"
    }
   ],
   "metadata":{
    "datalore":{
     "node_id":"ZEdwPAq91hYJb7sGj6CqmM",
     "type":"CODE",
     "hide_input_from_viewers":true,
     "hide_output_from_viewers":true
    }
   }
  },
  {
   "cell_type":"code",
   "source":[
    "# Total sales by market\n",
    "sales_by_market = df.groupby(df.Market)['Sales'].sum()\n",
    "print(\"Total Sales by Market:\\n\", sales_by_market)"
   ],
   "execution_count":10,
   "outputs":[
    {
     "name":"stdout",
     "text":[
      "Total Sales by Market:\n",
      " Market\n",
      "Central    64981\n",
      "East       44108\n",
      "South      26388\n",
      "West       67418\n",
      "Name: Sales, dtype: int64\n"
     ],
     "output_type":"stream"
    }
   ],
   "metadata":{
    "datalore":{
     "node_id":"I0dkRkgxU2Gz1j34J1vndy",
     "type":"CODE",
     "hide_input_from_viewers":true,
     "hide_output_from_viewers":true
    }
   }
  },
  {
   "cell_type":"code",
   "source":[
    "# Total sales for each market and state\n",
    "market_and_state = df.groupby(['Market', 'State'])['Sales'].sum().reset_index()\n",
    "display(market_and_state)"
   ],
   "execution_count":11,
   "outputs":[
    {
     "data":{
      "text\/html":[
       "<div>\n",
       "<style scoped>\n",
       "    .dataframe tbody tr th:only-of-type {\n",
       "        vertical-align: middle;\n",
       "    }\n",
       "\n",
       "    .dataframe tbody tr th {\n",
       "        vertical-align: top;\n",
       "    }\n",
       "\n",
       "    .dataframe thead th {\n",
       "        text-align: right;\n",
       "    }\n",
       "<\/style>\n",
       "<table border=\"1\" class=\"dataframe\">\n",
       "  <thead>\n",
       "    <tr style=\"text-align: right;\">\n",
       "      <th><\/th>\n",
       "      <th>Market<\/th>\n",
       "      <th>State<\/th>\n",
       "      <th>Sales<\/th>\n",
       "    <\/tr>\n",
       "  <\/thead>\n",
       "  <tbody>\n",
       "    <tr>\n",
       "      <th>0<\/th>\n",
       "      <td>Central<\/td>\n",
       "      <td>Colorado<\/td>\n",
       "      <td>12112<\/td>\n",
       "    <\/tr>\n",
       "    <tr>\n",
       "      <th>1<\/th>\n",
       "      <td>Central<\/td>\n",
       "      <td>Illinois<\/td>\n",
       "      <td>16812<\/td>\n",
       "    <\/tr>\n",
       "    <tr>\n",
       "      <th>2<\/th>\n",
       "      <td>Central<\/td>\n",
       "      <td>Iowa<\/td>\n",
       "      <td>13359<\/td>\n",
       "    <\/tr>\n",
       "    <tr>\n",
       "      <th>3<\/th>\n",
       "      <td>Central<\/td>\n",
       "      <td>Missouri<\/td>\n",
       "      <td>6072<\/td>\n",
       "    <\/tr>\n",
       "    <tr>\n",
       "      <th>4<\/th>\n",
       "      <td>Central<\/td>\n",
       "      <td>Ohio<\/td>\n",
       "      <td>8787<\/td>\n",
       "    <\/tr>\n",
       "    <tr>\n",
       "      <th>5<\/th>\n",
       "      <td>Central<\/td>\n",
       "      <td>Wisconsin<\/td>\n",
       "      <td>7839<\/td>\n",
       "    <\/tr>\n",
       "    <tr>\n",
       "      <th>6<\/th>\n",
       "      <td>East<\/td>\n",
       "      <td>Connecticut<\/td>\n",
       "      <td>6670<\/td>\n",
       "    <\/tr>\n",
       "    <tr>\n",
       "      <th>7<\/th>\n",
       "      <td>East<\/td>\n",
       "      <td>Florida<\/td>\n",
       "      <td>8825<\/td>\n",
       "    <\/tr>\n",
       "    <tr>\n",
       "      <th>8<\/th>\n",
       "      <td>East<\/td>\n",
       "      <td>Massachusetts<\/td>\n",
       "      <td>7339<\/td>\n",
       "    <\/tr>\n",
       "    <tr>\n",
       "      <th>9<\/th>\n",
       "      <td>East<\/td>\n",
       "      <td>New Hampshire<\/td>\n",
       "      <td>3543<\/td>\n",
       "    <\/tr>\n",
       "    <tr>\n",
       "      <th>10<\/th>\n",
       "      <td>East<\/td>\n",
       "      <td>New York<\/td>\n",
       "      <td>17731<\/td>\n",
       "    <\/tr>\n",
       "    <tr>\n",
       "      <th>11<\/th>\n",
       "      <td>South<\/td>\n",
       "      <td>Louisiana<\/td>\n",
       "      <td>6193<\/td>\n",
       "    <\/tr>\n",
       "    <tr>\n",
       "      <th>12<\/th>\n",
       "      <td>South<\/td>\n",
       "      <td>New Mexico<\/td>\n",
       "      <td>3805<\/td>\n",
       "    <\/tr>\n",
       "    <tr>\n",
       "      <th>13<\/th>\n",
       "      <td>South<\/td>\n",
       "      <td>Oklahoma<\/td>\n",
       "      <td>7298<\/td>\n",
       "    <\/tr>\n",
       "    <tr>\n",
       "      <th>14<\/th>\n",
       "      <td>South<\/td>\n",
       "      <td>Texas<\/td>\n",
       "      <td>9092<\/td>\n",
       "    <\/tr>\n",
       "    <tr>\n",
       "      <th>15<\/th>\n",
       "      <td>West<\/td>\n",
       "      <td>California<\/td>\n",
       "      <td>23032<\/td>\n",
       "    <\/tr>\n",
       "    <tr>\n",
       "      <th>16<\/th>\n",
       "      <td>West<\/td>\n",
       "      <td>Nevada<\/td>\n",
       "      <td>14822<\/td>\n",
       "    <\/tr>\n",
       "    <tr>\n",
       "      <th>17<\/th>\n",
       "      <td>West<\/td>\n",
       "      <td>Oregon<\/td>\n",
       "      <td>10661<\/td>\n",
       "    <\/tr>\n",
       "    <tr>\n",
       "      <th>18<\/th>\n",
       "      <td>West<\/td>\n",
       "      <td>Utah<\/td>\n",
       "      <td>9159<\/td>\n",
       "    <\/tr>\n",
       "    <tr>\n",
       "      <th>19<\/th>\n",
       "      <td>West<\/td>\n",
       "      <td>Washington<\/td>\n",
       "      <td>9744<\/td>\n",
       "    <\/tr>\n",
       "  <\/tbody>\n",
       "<\/table>\n",
       "<\/div>"
      ]
     },
     "metadata":{
      
     },
     "output_type":"display_data"
    }
   ],
   "metadata":{
    "datalore":{
     "node_id":"8ykyjAWWUUfwdUI6mCRnJu",
     "type":"CODE",
     "hide_input_from_viewers":true,
     "hide_output_from_viewers":true
    }
   }
  },
  {
   "cell_type":"code",
   "source":[
    "# Plotting bar chart for Total Sales per Year by Product Line\n",
    "grouped = df.groupby([df.Date.dt.year,'Product_line'])['Sales'].sum()\n",
    "\n",
    "# Create a bar plot\n",
    "fig = grouped.plot(kind='bar', figsize=(10, 6), width=0.8)\n",
    "plt.xlabel('Product Line', fontweight='bold')\n",
    "plt.ylabel('Sales', fontweight='bold')\n",
    "plt.title('Total Sales by Product Line per Year', fontweight='bold')\n",
    "plt.xticks(rotation=45)\n",
    "\n",
    "plt.show()\n",
    "\n",
    "sales_by_product_line = df.groupby(['Product_line', df.Date.dt.year])['Sales'].sum()\n",
    "print(\"Total Sales by Product Line per Year:\\n\", sales_by_product_line)"
   ],
   "execution_count":12,
   "outputs":[
    {
     "name":"stdout",
     "text":[
      "Total Sales by Product Line per Year:\n",
      " Product_line  Date\n",
      "Beans         2012     4651\n",
      "              2013    15751\n",
      "              2014    54763\n",
      "              2015    33221\n",
      "Leaves        2012     6210\n",
      "              2013    23147\n",
      "              2014    30219\n",
      "              2015    34933\n",
      "Name: Sales, dtype: int64\n"
     ],
     "output_type":"stream"
    },
    {
     "data":{
      "image\/png":"[encoded data removed]"
     },
     "metadata":{
      "image\/png":{
       
      }
     },
     "output_type":"display_data"
    }
   ],
   "metadata":{
    "datalore":{
     "node_id":"M6zmj7u1isucBE1P2qs4ly",
     "type":"CODE",
     "hide_input_from_viewers":true,
     "hide_output_from_viewers":true
    }
   }
  },
  {
   "cell_type":"code",
   "source":[
    "# Plotting bar chart for Total Profit by Product Line per Year\n",
    "grouped = df.groupby([df.Date.dt.year,'Product_line'])['Profit'].sum()\n",
    "\n",
    "# Create a bar plot\n",
    "fig1 = grouped.plot(kind='bar', figsize=(8, 4), width=0.8)\n",
    "plt.xlabel('Product Line', fontweight='bold')\n",
    "plt.ylabel('Profit $', fontweight='bold')\n",
    "plt.title('Total Profit by Product Line per Year', fontweight='bold')\n",
    "plt.xticks(rotation=45)\n",
    "\n",
    "plt.show()\n",
    "\n",
    "sales_by_product_line = df.groupby(['Product_line', df.Date.dt.year])['Profit'].sum()\n",
    "print(\"Total Profit by Product Line per Year:\\n\", sales_by_product_line)"
   ],
   "execution_count":13,
   "outputs":[
    {
     "name":"stdout",
     "text":[
      "Total Profit by Product Line per Year:\n",
      " Product_line  Date\n",
      "Beans         2012      961\n",
      "              2013     3494\n",
      "              2014    20828\n",
      "              2015    10082\n",
      "Leaves        2012     1532\n",
      "              2013     5990\n",
      "              2014     9552\n",
      "              2015    11872\n",
      "Name: Profit, dtype: int64\n"
     ],
     "output_type":"stream"
    },
    {
     "data":{
      "image\/png":"[encoded data removed]"
     },
     "metadata":{
      "image\/png":{
       
      }
     },
     "output_type":"display_data"
    }
   ],
   "metadata":{
    "datalore":{
     "node_id":"TwpOVZvPPyeMlA9CIqX2Ef",
     "type":"CODE",
     "hide_input_from_viewers":true,
     "hide_output_from_viewers":true
    }
   }
  },
  {
   "cell_type":"code",
   "source":[
    "# Best selling products by units sold\n",
    "grouped = df.groupby('Product')['Sales'].sum()\n",
    "grouped = grouped.sort_values(ascending=True)\n",
    "\n",
    "# Create a bar plot\n",
    "fig2 = grouped.plot(kind='bar', figsize=(10, 6), width=0.8)\n",
    "plt.xlabel('Product', fontweight='bold')\n",
    "plt.ylabel('Sum of Sales', fontweight='bold')\n",
    "plt.title('Best Selling Products', fontweight='bold')\n",
    "plt.xticks(rotation=45)\n",
    "\n",
    "plt.show()\n",
    "print(\"Best Selling Products:\\n\", grouped)"
   ],
   "execution_count":14,
   "outputs":[
    {
     "name":"stdout",
     "text":[
      "Best Selling Products:\n",
      " Product\n",
      "Regular Espresso      6744\n",
      "Amaretto              6781\n",
      "Mint                  8342\n",
      "Green Tea             8520\n",
      "Caffe Latte           8665\n",
      "Decaf Irish Cream    14831\n",
      "Earl Grey            16546\n",
      "Darjeeling           17758\n",
      "Decaf Espresso       18888\n",
      "Chamomile            19295\n",
      "Caffe Mocha          21716\n",
      "Lemon                24048\n",
      "Colombian            30761\n",
      "Name: Sales, dtype: int64\n"
     ],
     "output_type":"stream"
    },
    {
     "data":{
      "image\/png":"[encoded data removed]"
     },
     "metadata":{
      "image\/png":{
       
      }
     },
     "output_type":"display_data"
    }
   ],
   "metadata":{
    "datalore":{
     "node_id":"3MWz1sf7NUbJQsHo1bNwBi",
     "type":"CODE",
     "hide_input_from_viewers":true,
     "hide_output_from_viewers":true
    }
   }
  },
  {
   "cell_type":"code",
   "source":[
    "# Plotting bar chart for Cogs vs Target Cogs by Year\n",
    "grouped = df.groupby(df.Date.dt.year)[['Cogs', 'Target_cogs']].sum()\n",
    "\n",
    "# Create a bar plot\n",
    "fig3 = grouped.plot(kind='bar', figsize=(10, 6), width=0.8)\n",
    "plt.xlabel('Year', fontweight='bold')\n",
    "plt.ylabel('USD $', fontweight='bold')\n",
    "plt.title('Cogs vs Target Cogs by Year', fontweight='bold')\n",
    "plt.xticks(rotation=45)\n",
    "\n",
    "plt.legend(title='', loc='upper left', bbox_to_anchor=(1, 1))\n",
    "plt.show()\n",
    "print(\"Cogs vs Target Cogs by Year:\\n\",grouped)"
   ],
   "execution_count":15,
   "outputs":[
    {
     "name":"stdout",
     "text":[
      "Cogs vs Target Cogs by Year:\n",
      "        Cogs  Target_cogs\n",
      "Date                    \n",
      "2012   4481         3310\n",
      "2013  15827        11820\n",
      "2014  35902        32420\n",
      "2015  31298        28570\n"
     ],
     "output_type":"stream"
    },
    {
     "data":{
      "image\/png":"[encoded data removed]"
     },
     "metadata":{
      "image\/png":{
       
      }
     },
     "output_type":"display_data"
    }
   ],
   "metadata":{
    "datalore":{
     "node_id":"5hsoCd8NmGKyDHqJUowCZG",
     "type":"CODE",
     "hide_input_from_viewers":true,
     "hide_output_from_viewers":true
    }
   }
  },
  {
   "cell_type":"code",
   "source":[
    "# Plotting bar chart for Margin vs Target by Year\n",
    "grouped = df.groupby(df.Date.dt.year)[['Margin', 'Target_margin']].sum()\n",
    "\n",
    "# Create a bar plot\n",
    "fig4 = grouped.plot(kind='bar', figsize=(10, 6), width=0.8,)\n",
    "plt.xlabel('Year', fontweight='bold')\n",
    "plt.ylabel('USD $', fontweight='bold')\n",
    "plt.title('Margin vs Target by Year', fontweight='bold')\n",
    "plt.xticks(rotation=45)\n",
    "\n",
    "plt.legend(title='', loc='upper left', bbox_to_anchor=(1, 1))\n",
    "plt.show()\n",
    "print(\"Margin vs Target by Year:\\n\",grouped)"
   ],
   "execution_count":16,
   "outputs":[
    {
     "name":"stdout",
     "text":[
      "Margin vs Target by Year:\n",
      "       Margin  Target_margin\n",
      "Date                       \n",
      "2012    6232           5580\n",
      "2013   21715          18780\n",
      "2014   46866          45600\n",
      "2015   33961          32860\n"
     ],
     "output_type":"stream"
    },
    {
     "data":{
      "image\/png":"[encoded data removed]"
     },
     "metadata":{
      "image\/png":{
       
      }
     },
     "output_type":"display_data"
    }
   ],
   "metadata":{
    "datalore":{
     "node_id":"CeNTKfwoKrFjfa06y5ap2D",
     "type":"CODE",
     "hide_input_from_viewers":true,
     "hide_output_from_viewers":true
    }
   }
  },
  {
   "cell_type":"code",
   "source":[
    "# Plotting bar chart for Profit vs Target by Year\n",
    "grouped = df.groupby(df.Date.dt.year)[['Profit', 'Target_profit']].sum()\n",
    "\n",
    "# Create a bar plot\n",
    "fig5 = grouped.plot(kind='bar', figsize=(10, 6), width=0.8,)\n",
    "plt.xlabel('Year', fontweight='bold')\n",
    "plt.ylabel('USD $', fontweight='bold')\n",
    "plt.title('Profit vs Target by Year', fontweight='bold')\n",
    "plt.xticks(rotation=45)\n",
    "\n",
    "plt.legend(title='', loc='upper left', bbox_to_anchor=(1, 1))\n",
    "plt.show()\n",
    "print(\"Profit vs Target by Year:\\n\",grouped)"
   ],
   "execution_count":17,
   "outputs":[
    {
     "name":"stdout",
     "text":[
      "Profit vs Target by Year:\n",
      "       Profit  Target_profit\n",
      "Date                       \n",
      "2012    2493           3480\n",
      "2013    9484          10260\n",
      "2014   30380          30690\n",
      "2015   21954          19470\n"
     ],
     "output_type":"stream"
    },
    {
     "data":{
      "image\/png":"[encoded data removed]"
     },
     "metadata":{
      "image\/png":{
       
      }
     },
     "output_type":"display_data"
    }
   ],
   "metadata":{
    "datalore":{
     "node_id":"LhtSbx7qv9rSI0fxQw8m9Q",
     "type":"CODE",
     "hide_input_from_viewers":true,
     "hide_output_from_viewers":true
    }
   }
  }
 ],
 "metadata":{
  "kernelspec":{
   "display_name":"Python",
   "language":"python",
   "name":"python"
  },
  "datalore":{
   "computation_mode":"JUPYTER",
   "package_manager":"pip",
   "base_environment":"default",
   "packages":[
    
   ],
   "report_row_ids":[
    
   ],
   "version":3
  }
 },
 "nbformat":4,
 "nbformat_minor":4
}