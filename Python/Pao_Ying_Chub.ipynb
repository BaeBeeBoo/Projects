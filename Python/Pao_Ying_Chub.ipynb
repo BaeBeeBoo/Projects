{
  "nbformat": 4,
  "nbformat_minor": 0,
  "metadata": {
    "colab": {
      "provenance": []
    },
    "kernelspec": {
      "name": "python3",
      "display_name": "Python 3"
    },
    "language_info": {
      "name": "python"
    }
  },
  "cells": [
    {
      "cell_type": "code",
      "execution_count": null,
      "metadata": {
        "colab": {
          "base_uri": "https://localhost:8080/"
        },
        "id": "R2NSizsK5-np",
        "outputId": "7fd737a8-fc5c-4dc7-e8aa-315c3d83defe"
      },
      "outputs": [
        {
          "output_type": "stream",
          "name": "stdout",
          "text": [
            "Hello! Welcome to Pao-Ying-Chub Game!!\n",
            "Do you want to start the game? Press [yes] or press [no] to quit.\n",
            "yes\n",
            "Let's choose your item: 'rock', 'paper', 'scissors'.\n",
            "Just type 'quit' to exit.\n",
            "rock\n",
            "You win!\n",
            "Let's choose your item: 'rock', 'paper', 'scissors'.\n",
            "Just type 'quit' to exit.\n",
            "rock\n",
            "You win!\n",
            "Let's choose your item: 'rock', 'paper', 'scissors'.\n",
            "Just type 'quit' to exit.\n",
            "scissors\n",
            "You win!\n",
            "Let's choose your item: 'rock', 'paper', 'scissors'.\n",
            "Just type 'quit' to exit.\n",
            "papae\n",
            "Wrong answer!\n",
            "Let's choose your item: 'rock', 'paper', 'scissors'.\n",
            "Just type 'quit' to exit.\n",
            "paper\n",
            "Draw!\n",
            "Let's choose your item: 'rock', 'paper', 'scissors'.\n",
            "Just type 'quit' to exit.\n",
            "quit\n",
            "Scoring summary:\n",
            " Win: 3, Draw: 1, Lose: 0\n",
            "Hope you had fun playing!\n"
          ]
        }
      ],
      "source": [
        "import random as rd\n",
        "\n",
        "items = [\"rock\", \"paper\", \"scissors\"]\n",
        "result = {\"win\": 0, \"lose\": 0, \"draw\": 0}\n",
        "\n",
        "def game():\n",
        "    print(\"Hello! Welcome to Pao-Ying-Chub Game!!\")\n",
        "    print(\"Do you want to start the game? Press [yes] or press [no] to quit.\")\n",
        "    greeting = input()\n",
        "    if greeting == \"yes\":\n",
        "\n",
        "        while True:\n",
        "            print(\"Let's choose your item: 'rock', 'paper', 'scissors'.\")\n",
        "            print(\"Just type 'quit' to exit.\")\n",
        "\n",
        "            computer = rd.choice(items)\n",
        "            player = input()\n",
        "\n",
        "            if player == computer:\n",
        "                print(\"Draw!\")\n",
        "                result[\"draw\"] += 1\n",
        "            elif (player == \"rock\" and computer == \"scissors\") or (player == \"paper\" and computer == \"rock\") or (player == \"scissors\" and computer == \"paper\"):\n",
        "                print(\"You win!\")\n",
        "                result[\"win\"] += 1\n",
        "            elif player == \"quit\":\n",
        "\n",
        "                break\n",
        "            elif player not in ['rock', 'paper', 'scissors']:\n",
        "                print(\"Wrong answer!\")\n",
        "            else:\n",
        "                print(\"You lose!\")\n",
        "                result[\"lose\"] += 1\n",
        "\n",
        "        print(f\"Scoring summary:\\n Win: {result['win']}, Draw: {result['draw']}, Lose: {result['lose']}\")\n",
        "        print(\"Hope you had fun playing!\")\n",
        "\n",
        "    elif greeting == \"no\":\n",
        "            print(\"Good bye!\")\n",
        "\n",
        "game()"
      ]
    }
  ]
}