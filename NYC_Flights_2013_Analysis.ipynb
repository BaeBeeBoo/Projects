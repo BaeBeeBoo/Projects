# NYC Flights 2013 Analysis

install.packages("nycflights13")
library(nycflights13)
library("tidyverse")
library(tidyverse, warn.conflicts=FALSE)
options(dplyr.summarise.inform = FALSE)

data(package="nycflights13")

glimpse(flights)
cat("\n")
glimpse(airlines)
cat("\n")
glimpse(airports)
cat("\n")
glimpse(weather)
cat("\n")
glimpse(planes)
cat("\n")
