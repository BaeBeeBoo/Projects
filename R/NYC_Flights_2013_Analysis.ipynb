{
 "cells":[
  {
   "cell_type":"markdown",
   "source":[
    "# NYC Flights 2013 Analysis"
   ],
   "attachments":{
    
   },
   "metadata":{
    "datalore":{
     "node_id":"2mNN5VQSutoYW2koaoI567",
     "type":"MD",
     "hide_input_from_viewers":true,
     "hide_output_from_viewers":true
    }
   }
  },
  {
   "cell_type":"code",
   "source":[
    "install.packages(\"nycflights13\")\n",
    "library(nycflights13)\n",
    "library(\"tidyverse\")"
   ],
   "execution_count":1,
   "outputs":[
    {
     "name":"stderr",
     "text":[
      "Updating HTML index of packages in '.Library'\n",
      "\n",
      "Making 'packages.html' ...\n",
      " done\n",
      "\n",
      "Warning message in system(\"timedatectl\", intern = TRUE):\n",
      "“running command 'timedatectl' had status 1”\n",
      "Warning message:\n",
      "“Failed to locate timezone database”\n",
      "── \u001b[1mAttaching core tidyverse packages\u001b[22m ──────────────────────── tidyverse 2.0.0 ──\n",
      "\u001b[32m✔\u001b[39m \u001b[34mdplyr    \u001b[39m 1.1.1     \u001b[32m✔\u001b[39m \u001b[34mreadr    \u001b[39m 2.1.4\n",
      "\u001b[32m✔\u001b[39m \u001b[34mforcats  \u001b[39m 1.0.0     \u001b[32m✔\u001b[39m \u001b[34mstringr  \u001b[39m 1.5.0\n",
      "\u001b[32m✔\u001b[39m \u001b[34mggplot2  \u001b[39m 3.4.2     \u001b[32m✔\u001b[39m \u001b[34mtibble   \u001b[39m 3.2.1\n",
      "\u001b[32m✔\u001b[39m \u001b[34mlubridate\u001b[39m 1.9.2     \u001b[32m✔\u001b[39m \u001b[34mtidyr    \u001b[39m 1.3.0\n",
      "\u001b[32m✔\u001b[39m \u001b[34mpurrr    \u001b[39m 1.0.1     \n",
      "── \u001b[1mConflicts\u001b[22m ────────────────────────────────────────── tidyverse_conflicts() ──\n",
      "\u001b[31m✖\u001b[39m \u001b[34mdplyr\u001b[39m::\u001b[32mfilter()\u001b[39m  masks \u001b[34mstats\u001b[39m::filter()\n",
      "\u001b[31m✖\u001b[39m \u001b[34mpurrr\u001b[39m::\u001b[32mflatten()\u001b[39m masks \u001b[34mjsonlite\u001b[39m::flatten()\n",
      "\u001b[31m✖\u001b[39m \u001b[34mdplyr\u001b[39m::\u001b[32mlag()\u001b[39m     masks \u001b[34mstats\u001b[39m::lag()\n",
      "\u001b[36mℹ\u001b[39m Use the conflicted package (\u001b[3m\u001b[34m<http:\/\/conflicted.r-lib.org\/>\u001b[39m\u001b[23m) to force all conflicts to become errors\n"
     ],
     "output_type":"stream"
    }
   ],
   "metadata":{
    "datalore":{
     "node_id":"DOsCQtVe1pmzaB6SeS0UxD",
     "type":"CODE",
     "hide_input_from_viewers":true,
     "hide_output_from_viewers":true
    }
   }
  },
  {
   "cell_type":"code",
   "source":[
    "glimpse(flights)\n",
    "cat(\"\\n\")\n",
    "glimpse(airlines)\n",
    "cat(\"\\n\")\n",
    "glimpse(airports)\n",
    "cat(\"\\n\")\n",
    "glimpse(weather)\n",
    "cat(\"\\n\")\n",
    "glimpse(planes)\n",
    "cat(\"\\n\")"
   ],
   "execution_count":2,
   "outputs":[
    {
     "name":"stdout",
     "text":[
      "Rows: 336,776\n",
      "Columns: 19\n",
      "$ year           \u001b[3m\u001b[90m<int>\u001b[39m\u001b[23m 2013, 2013, 2013, 2013, 2013, 2013, 2013, 2013, 2013, 2…\n",
      "$ month          \u001b[3m\u001b[90m<int>\u001b[39m\u001b[23m 1, 1, 1, 1, 1, 1, 1, 1, 1, 1, 1, 1, 1, 1, 1, 1, 1, 1, 1…\n",
      "$ day            \u001b[3m\u001b[90m<int>\u001b[39m\u001b[23m 1, 1, 1, 1, 1, 1, 1, 1, 1, 1, 1, 1, 1, 1, 1, 1, 1, 1, 1…\n",
      "$ dep_time       \u001b[3m\u001b[90m<int>\u001b[39m\u001b[23m 517, 533, 542, 544, 554, 554, 555, 557, 557, 558, 558, …\n",
      "$ sched_dep_time \u001b[3m\u001b[90m<int>\u001b[39m\u001b[23m 515, 529, 540, 545, 600, 558, 600, 600, 600, 600, 600, …\n",
      "$ dep_delay      \u001b[3m\u001b[90m<dbl>\u001b[39m\u001b[23m 2, 4, 2, -1, -6, -4, -5, -3, -3, -2, -2, -2, -2, -2, -1…\n",
      "$ arr_time       \u001b[3m\u001b[90m<int>\u001b[39m\u001b[23m 830, 850, 923, 1004, 812, 740, 913, 709, 838, 753, 849,…\n",
      "$ sched_arr_time \u001b[3m\u001b[90m<int>\u001b[39m\u001b[23m 819, 830, 850, 1022, 837, 728, 854, 723, 846, 745, 851,…\n",
      "$ arr_delay      \u001b[3m\u001b[90m<dbl>\u001b[39m\u001b[23m 11, 20, 33, -18, -25, 12, 19, -14, -8, 8, -2, -3, 7, -1…\n",
      "$ carrier        \u001b[3m\u001b[90m<chr>\u001b[39m\u001b[23m \"UA\", \"UA\", \"AA\", \"B6\", \"DL\", \"UA\", \"B6\", \"EV\", \"B6\", \"…\n",
      "$ flight         \u001b[3m\u001b[90m<int>\u001b[39m\u001b[23m 1545, 1714, 1141, 725, 461, 1696, 507, 5708, 79, 301, 4…\n",
      "$ tailnum        \u001b[3m\u001b[90m<chr>\u001b[39m\u001b[23m \"N14228\", \"N24211\", \"N619AA\", \"N804JB\", \"N668DN\", \"N394…\n",
      "$ origin         \u001b[3m\u001b[90m<chr>\u001b[39m\u001b[23m \"EWR\", \"LGA\", \"JFK\", \"JFK\", \"LGA\", \"EWR\", \"EWR\", \"LGA\",…\n",
      "$ dest           \u001b[3m\u001b[90m<chr>\u001b[39m\u001b[23m \"IAH\", \"IAH\", \"MIA\", \"BQN\", \"ATL\", \"ORD\", \"FLL\", \"IAD\",…\n",
      "$ air_time       \u001b[3m\u001b[90m<dbl>\u001b[39m\u001b[23m 227, 227, 160, 183, 116, 150, 158, 53, 140, 138, 149, 1…\n",
      "$ distance       \u001b[3m\u001b[90m<dbl>\u001b[39m\u001b[23m 1400, 1416, 1089, 1576, 762, 719, 1065, 229, 944, 733, …\n",
      "$ hour           \u001b[3m\u001b[90m<dbl>\u001b[39m\u001b[23m 5, 5, 5, 5, 6, 5, 6, 6, 6, 6, 6, 6, 6, 6, 6, 5, 6, 6, 6…\n",
      "$ minute         \u001b[3m\u001b[90m<dbl>\u001b[39m\u001b[23m 15, 29, 40, 45, 0, 58, 0, 0, 0, 0, 0, 0, 0, 0, 0, 59, 0…\n",
      "$ time_hour      \u001b[3m\u001b[90m<dttm>\u001b[39m\u001b[23m 2013-01-01 10:00:00, 2013-01-01 10:00:00, 2013-01-01 1…\n",
      "\n",
      "Rows: 16\n",
      "Columns: 2\n",
      "$ carrier \u001b[3m\u001b[90m<chr>\u001b[39m\u001b[23m \"9E\", \"AA\", \"AS\", \"B6\", \"DL\", \"EV\", \"F9\", \"FL\", \"HA\", \"MQ\", \"O…\n",
      "$ name    \u001b[3m\u001b[90m<chr>\u001b[39m\u001b[23m \"Endeavor Air Inc.\", \"American Airlines Inc.\", \"Alaska Airline…\n",
      "\n",
      "Rows: 1,458\n",
      "Columns: 8\n",
      "$ faa   \u001b[3m\u001b[90m<chr>\u001b[39m\u001b[23m \"04G\", \"06A\", \"06C\", \"06N\", \"09J\", \"0A9\", \"0G6\", \"0G7\", \"0P2\", \"…\n",
      "$ name  \u001b[3m\u001b[90m<chr>\u001b[39m\u001b[23m \"Lansdowne Airport\", \"Moton Field Municipal Airport\", \"Schaumbur…\n",
      "$ lat   \u001b[3m\u001b[90m<dbl>\u001b[39m\u001b[23m 41.13047, 32.46057, 41.98934, 41.43191, 31.07447, 36.37122, 41.4…\n",
      "$ lon   \u001b[3m\u001b[90m<dbl>\u001b[39m\u001b[23m -80.61958, -85.68003, -88.10124, -74.39156, -81.42778, -82.17342…\n",
      "$ alt   \u001b[3m\u001b[90m<dbl>\u001b[39m\u001b[23m 1044, 264, 801, 523, 11, 1593, 730, 492, 1000, 108, 409, 875, 10…\n",
      "$ tz    \u001b[3m\u001b[90m<dbl>\u001b[39m\u001b[23m -5, -6, -6, -5, -5, -5, -5, -5, -5, -8, -5, -6, -5, -5, -5, -5, …\n",
      "$ dst   \u001b[3m\u001b[90m<chr>\u001b[39m\u001b[23m \"A\", \"A\", \"A\", \"A\", \"A\", \"A\", \"A\", \"A\", \"U\", \"A\", \"A\", \"U\", \"A\",…\n",
      "$ tzone \u001b[3m\u001b[90m<chr>\u001b[39m\u001b[23m \"America\/New_York\", \"America\/Chicago\", \"America\/Chicago\", \"Ameri…\n",
      "\n",
      "Rows: 26,115\n",
      "Columns: 15\n",
      "$ origin     \u001b[3m\u001b[90m<chr>\u001b[39m\u001b[23m \"EWR\", \"EWR\", \"EWR\", \"EWR\", \"EWR\", \"EWR\", \"EWR\", \"EWR\", \"EW…\n",
      "$ year       \u001b[3m\u001b[90m<int>\u001b[39m\u001b[23m 2013, 2013, 2013, 2013, 2013, 2013, 2013, 2013, 2013, 2013,…\n",
      "$ month      \u001b[3m\u001b[90m<int>\u001b[39m\u001b[23m 1, 1, 1, 1, 1, 1, 1, 1, 1, 1, 1, 1, 1, 1, 1, 1, 1, 1, 1, 1,…\n",
      "$ day        \u001b[3m\u001b[90m<int>\u001b[39m\u001b[23m 1, 1, 1, 1, 1, 1, 1, 1, 1, 1, 1, 1, 1, 1, 1, 1, 1, 1, 1, 1,…\n",
      "$ hour       \u001b[3m\u001b[90m<int>\u001b[39m\u001b[23m 1, 2, 3, 4, 5, 6, 7, 8, 9, 10, 11, 13, 14, 15, 16, 17, 18, …\n",
      "$ temp       \u001b[3m\u001b[90m<dbl>\u001b[39m\u001b[23m 39.02, 39.02, 39.02, 39.92, 39.02, 37.94, 39.02, 39.92, 39.…\n",
      "$ dewp       \u001b[3m\u001b[90m<dbl>\u001b[39m\u001b[23m 26.06, 26.96, 28.04, 28.04, 28.04, 28.04, 28.04, 28.04, 28.…\n",
      "$ humid      \u001b[3m\u001b[90m<dbl>\u001b[39m\u001b[23m 59.37, 61.63, 64.43, 62.21, 64.43, 67.21, 64.43, 62.21, 62.…\n",
      "$ wind_dir   \u001b[3m\u001b[90m<dbl>\u001b[39m\u001b[23m 270, 250, 240, 250, 260, 240, 240, 250, 260, 260, 260, 330,…\n",
      "$ wind_speed \u001b[3m\u001b[90m<dbl>\u001b[39m\u001b[23m 10.35702, 8.05546, 11.50780, 12.65858, 12.65858, 11.50780, …\n",
      "$ wind_gust  \u001b[3m\u001b[90m<dbl>\u001b[39m\u001b[23m NA, NA, NA, NA, NA, NA, NA, NA, NA, NA, NA, NA, NA, NA, 20.…\n",
      "$ precip     \u001b[3m\u001b[90m<dbl>\u001b[39m\u001b[23m 0, 0, 0, 0, 0, 0, 0, 0, 0, 0, 0, 0, 0, 0, 0, 0, 0, 0, 0, 0,…\n",
      "$ pressure   \u001b[3m\u001b[90m<dbl>\u001b[39m\u001b[23m 1012.0, 1012.3, 1012.5, 1012.2, 1011.9, 1012.4, 1012.2, 101…\n",
      "$ visib      \u001b[3m\u001b[90m<dbl>\u001b[39m\u001b[23m 10, 10, 10, 10, 10, 10, 10, 10, 10, 10, 10, 10, 10, 10, 10,…\n",
      "$ time_hour  \u001b[3m\u001b[90m<dttm>\u001b[39m\u001b[23m 2013-01-01 06:00:00, 2013-01-01 07:00:00, 2013-01-01 08:00…\n",
      "\n",
      "Rows: 3,322\n",
      "Columns: 9\n",
      "$ tailnum      \u001b[3m\u001b[90m<chr>\u001b[39m\u001b[23m \"N10156\", \"N102UW\", \"N103US\", \"N104UW\", \"N10575\", \"N105UW…\n",
      "$ year         \u001b[3m\u001b[90m<int>\u001b[39m\u001b[23m 2004, 1998, 1999, 1999, 2002, 1999, 1999, 1999, 1999, 199…\n",
      "$ type         \u001b[3m\u001b[90m<chr>\u001b[39m\u001b[23m \"Fixed wing multi engine\", \"Fixed wing multi engine\", \"Fi…\n",
      "$ manufacturer \u001b[3m\u001b[90m<chr>\u001b[39m\u001b[23m \"EMBRAER\", \"AIRBUS INDUSTRIE\", \"AIRBUS INDUSTRIE\", \"AIRBU…\n",
      "$ model        \u001b[3m\u001b[90m<chr>\u001b[39m\u001b[23m \"EMB-145XR\", \"A320-214\", \"A320-214\", \"A320-214\", \"EMB-145…\n",
      "$ engines      \u001b[3m\u001b[90m<int>\u001b[39m\u001b[23m 2, 2, 2, 2, 2, 2, 2, 2, 2, 2, 2, 2, 2, 2, 2, 2, 2, 2, 2, …\n",
      "$ seats        \u001b[3m\u001b[90m<int>\u001b[39m\u001b[23m 55, 182, 182, 182, 55, 182, 182, 182, 182, 182, 55, 55, 5…\n",
      "$ speed        \u001b[3m\u001b[90m<int>\u001b[39m\u001b[23m NA, NA, NA, NA, NA, NA, NA, NA, NA, NA, NA, NA, NA, NA, N…\n",
      "$ engine       \u001b[3m\u001b[90m<chr>\u001b[39m\u001b[23m \"Turbo-fan\", \"Turbo-fan\", \"Turbo-fan\", \"Turbo-fan\", \"Turb…\n",
      "\n"
     ],
     "output_type":"stream"
    }
   ],
   "metadata":{
    "datalore":{
     "node_id":"3Z6EBlGWM7ogmjKPNEJjlO",
     "type":"CODE",
     "hide_input_from_viewers":true,
     "hide_output_from_viewers":true
    }
   }
  },
  {
   "cell_type":"markdown",
   "source":[
    "## Q1: Which airlines had the least departure delay at the beginning of 2013?"
   ],
   "attachments":{
    
   },
   "metadata":{
    "datalore":{
     "node_id":"gOC9NgQCUAIvnMzhkikf4Q",
     "type":"MD",
     "hide_input_from_viewers":true,
     "hide_output_from_viewers":true
    }
   }
  },
  {
   "cell_type":"code",
   "source":[
    "flights %>%\n",
    "  filter(month == 1, day == 1) %>%\n",
    "  select(carrier, dep_delay) %>%\n",
    "  arrange(dep_delay) %>%\n",
    "  head(5) %>%\n",
    "  inner_join(airlines, by = \"carrier\")"
   ],
   "execution_count":3,
   "outputs":[
    {
     "data":{
      "text\/html":[
       "<table class=\"dataframe\">\n",
       "<caption>A tibble: 5 × 3<\/caption>\n",
       "<thead>\n",
       "\t<tr><th scope=col>carrier<\/th><th scope=col>dep_delay<\/th><th scope=col>name<\/th><\/tr>\n",
       "\t<tr><th scope=col>&lt;chr&gt;<\/th><th scope=col>&lt;dbl&gt;<\/th><th scope=col>&lt;chr&gt;<\/th><\/tr>\n",
       "<\/thead>\n",
       "<tbody>\n",
       "\t<tr><td>MQ<\/td><td>-15<\/td><td>Envoy Air               <\/td><\/tr>\n",
       "\t<tr><td>AA<\/td><td>-15<\/td><td>American Airlines Inc.  <\/td><\/tr>\n",
       "\t<tr><td>F9<\/td><td>-14<\/td><td>Frontier Airlines Inc.  <\/td><\/tr>\n",
       "\t<tr><td>EV<\/td><td>-13<\/td><td>ExpressJet Airlines Inc.<\/td><\/tr>\n",
       "\t<tr><td>B6<\/td><td>-12<\/td><td>JetBlue Airways         <\/td><\/tr>\n",
       "<\/tbody>\n",
       "<\/table>\n"
      ]
     },
     "metadata":{
      
     },
     "output_type":"display_data"
    }
   ],
   "metadata":{
    "datalore":{
     "node_id":"sZel232fDZ9Z52pc5GlpF6",
     "type":"CODE",
     "hide_input_from_viewers":true,
     "hide_output_from_viewers":true
    }
   }
  },
  {
   "cell_type":"markdown",
   "source":[
    "## Q2: Which flights go more than 50 days of the year and where do they fly to?"
   ],
   "attachments":{
    
   },
   "metadata":{
    "datalore":{
     "node_id":"W1gYaNK5RjRSb32eVqOSdf",
     "type":"MD",
     "hide_input_from_viewers":true,
     "hide_output_from_viewers":true
    }
   }
  },
  {
   "cell_type":"code",
   "source":[
    "flights %>% \n",
    "  group_by(carrier, flight, dest) %>%\n",
    "  summarise(n=n(), .groups = 'drop') %>%\n",
    "  arrange(desc(n)) %>% \n",
    "  filter(n > 49)"
   ],
   "execution_count":4,
   "outputs":[
    {
     "data":{
      "text\/html":[
       "<table class=\"dataframe\">\n",
       "<caption>A tibble: 1653 × 4<\/caption>\n",
       "<thead>\n",
       "\t<tr><th scope=col>carrier<\/th><th scope=col>flight<\/th><th scope=col>dest<\/th><th scope=col>n<\/th><\/tr>\n",
       "\t<tr><th scope=col>&lt;chr&gt;<\/th><th scope=col>&lt;int&gt;<\/th><th scope=col>&lt;chr&gt;<\/th><th scope=col>&lt;int&gt;<\/th><\/tr>\n",
       "<\/thead>\n",
       "<tbody>\n",
       "\t<tr><td>AA<\/td><td>  59<\/td><td>SFO<\/td><td>365<\/td><\/tr>\n",
       "\t<tr><td>AA<\/td><td> 119<\/td><td>LAX<\/td><td>365<\/td><\/tr>\n",
       "\t<tr><td>AA<\/td><td> 181<\/td><td>LAX<\/td><td>365<\/td><\/tr>\n",
       "\t<tr><td>AA<\/td><td>1357<\/td><td>SJU<\/td><td>365<\/td><\/tr>\n",
       "\t<tr><td>AA<\/td><td>1611<\/td><td>MIA<\/td><td>365<\/td><\/tr>\n",
       "\t<tr><td>B6<\/td><td> 219<\/td><td>CLT<\/td><td>365<\/td><\/tr>\n",
       "\t<tr><td>B6<\/td><td> 359<\/td><td>BUR<\/td><td>365<\/td><\/tr>\n",
       "\t<tr><td>B6<\/td><td> 371<\/td><td>FLL<\/td><td>365<\/td><\/tr>\n",
       "\t<tr><td>B6<\/td><td> 431<\/td><td>SRQ<\/td><td>365<\/td><\/tr>\n",
       "\t<tr><td>B6<\/td><td> 703<\/td><td>SJU<\/td><td>365<\/td><\/tr>\n",
       "\t<tr><td>B6<\/td><td>1783<\/td><td>MCO<\/td><td>365<\/td><\/tr>\n",
       "\t<tr><td>DL<\/td><td>2159<\/td><td>MCO<\/td><td>365<\/td><\/tr>\n",
       "\t<tr><td>DL<\/td><td>2391<\/td><td>TPA<\/td><td>365<\/td><\/tr>\n",
       "\t<tr><td>EV<\/td><td>5712<\/td><td>IAD<\/td><td>365<\/td><\/tr>\n",
       "\t<tr><td>UA<\/td><td>  15<\/td><td>HNL<\/td><td>365<\/td><\/tr>\n",
       "\t<tr><td>VX<\/td><td> 251<\/td><td>LAS<\/td><td>365<\/td><\/tr>\n",
       "\t<tr><td>VX<\/td><td> 407<\/td><td>LAX<\/td><td>365<\/td><\/tr>\n",
       "\t<tr><td>VX<\/td><td> 413<\/td><td>LAX<\/td><td>365<\/td><\/tr>\n",
       "\t<tr><td>AA<\/td><td>   1<\/td><td>LAX<\/td><td>364<\/td><\/tr>\n",
       "\t<tr><td>AA<\/td><td>  85<\/td><td>SFO<\/td><td>364<\/td><\/tr>\n",
       "\t<tr><td>AA<\/td><td> 117<\/td><td>LAX<\/td><td>364<\/td><\/tr>\n",
       "\t<tr><td>AA<\/td><td> 133<\/td><td>LAX<\/td><td>364<\/td><\/tr>\n",
       "\t<tr><td>B6<\/td><td> 711<\/td><td>LAS<\/td><td>364<\/td><\/tr>\n",
       "\t<tr><td>B6<\/td><td> 905<\/td><td>ORD<\/td><td>364<\/td><\/tr>\n",
       "\t<tr><td>DL<\/td><td> 181<\/td><td>DTW<\/td><td>364<\/td><\/tr>\n",
       "\t<tr><td>DL<\/td><td>1885<\/td><td>MCO<\/td><td>364<\/td><\/tr>\n",
       "\t<tr><td>VX<\/td><td>  11<\/td><td>SFO<\/td><td>364<\/td><\/tr>\n",
       "\t<tr><td>VX<\/td><td>  27<\/td><td>SFO<\/td><td>364<\/td><\/tr>\n",
       "\t<tr><td>VX<\/td><td> 411<\/td><td>LAX<\/td><td>364<\/td><\/tr>\n",
       "\t<tr><td>AA<\/td><td>   3<\/td><td>LAX<\/td><td>363<\/td><\/tr>\n",
       "\t<tr><td>⋮<\/td><td>⋮<\/td><td>⋮<\/td><td>⋮<\/td><\/tr>\n",
       "\t<tr><td>B6<\/td><td>  24<\/td><td>SYR<\/td><td>50<\/td><\/tr>\n",
       "\t<tr><td>B6<\/td><td>  44<\/td><td>BTV<\/td><td>50<\/td><\/tr>\n",
       "\t<tr><td>B6<\/td><td>  65<\/td><td>TPA<\/td><td>50<\/td><\/tr>\n",
       "\t<tr><td>B6<\/td><td>  75<\/td><td>TPA<\/td><td>50<\/td><\/tr>\n",
       "\t<tr><td>B6<\/td><td>  77<\/td><td>FLL<\/td><td>50<\/td><\/tr>\n",
       "\t<tr><td>B6<\/td><td> 143<\/td><td>RSW<\/td><td>50<\/td><\/tr>\n",
       "\t<tr><td>B6<\/td><td> 151<\/td><td>MCO<\/td><td>50<\/td><\/tr>\n",
       "\t<tr><td>B6<\/td><td> 195<\/td><td>LAS<\/td><td>50<\/td><\/tr>\n",
       "\t<tr><td>B6<\/td><td> 281<\/td><td>MCO<\/td><td>50<\/td><\/tr>\n",
       "\t<tr><td>B6<\/td><td> 315<\/td><td>FLL<\/td><td>50<\/td><\/tr>\n",
       "\t<tr><td>B6<\/td><td> 604<\/td><td>PWM<\/td><td>50<\/td><\/tr>\n",
       "\t<tr><td>B6<\/td><td> 618<\/td><td>PWM<\/td><td>50<\/td><\/tr>\n",
       "\t<tr><td>B6<\/td><td> 647<\/td><td>SFO<\/td><td>50<\/td><\/tr>\n",
       "\t<tr><td>B6<\/td><td> 649<\/td><td>SFO<\/td><td>50<\/td><\/tr>\n",
       "\t<tr><td>B6<\/td><td> 915<\/td><td>ORD<\/td><td>50<\/td><\/tr>\n",
       "\t<tr><td>B6<\/td><td>1008<\/td><td>BOS<\/td><td>50<\/td><\/tr>\n",
       "\t<tr><td>B6<\/td><td>1180<\/td><td>BOS<\/td><td>50<\/td><\/tr>\n",
       "\t<tr><td>B6<\/td><td>1204<\/td><td>BUF<\/td><td>50<\/td><\/tr>\n",
       "\t<tr><td>EV<\/td><td>4249<\/td><td>BWI<\/td><td>50<\/td><\/tr>\n",
       "\t<tr><td>EV<\/td><td>5209<\/td><td>CHS<\/td><td>50<\/td><\/tr>\n",
       "\t<tr><td>EV<\/td><td>5286<\/td><td>BTV<\/td><td>50<\/td><\/tr>\n",
       "\t<tr><td>UA<\/td><td> 288<\/td><td>FLL<\/td><td>50<\/td><\/tr>\n",
       "\t<tr><td>UA<\/td><td> 698<\/td><td>TPA<\/td><td>50<\/td><\/tr>\n",
       "\t<tr><td>UA<\/td><td>1221<\/td><td>DFW<\/td><td>50<\/td><\/tr>\n",
       "\t<tr><td>UA<\/td><td>1623<\/td><td>MCO<\/td><td>50<\/td><\/tr>\n",
       "\t<tr><td>US<\/td><td>1444<\/td><td>CLT<\/td><td>50<\/td><\/tr>\n",
       "\t<tr><td>WN<\/td><td> 262<\/td><td>DEN<\/td><td>50<\/td><\/tr>\n",
       "\t<tr><td>WN<\/td><td> 488<\/td><td>HOU<\/td><td>50<\/td><\/tr>\n",
       "\t<tr><td>WN<\/td><td> 573<\/td><td>MDW<\/td><td>50<\/td><\/tr>\n",
       "\t<tr><td>WN<\/td><td>2625<\/td><td>MDW<\/td><td>50<\/td><\/tr>\n",
       "<\/tbody>\n",
       "<\/table>\n"
      ]
     },
     "metadata":{
      
     },
     "output_type":"display_data"
    }
   ],
   "metadata":{
    "datalore":{
     "node_id":"SoAXZi8stm4jc693wSauIx",
     "type":"CODE",
     "hide_input_from_viewers":true,
     "hide_output_from_viewers":true
    }
   }
  },
  {
   "cell_type":"markdown",
   "source":[
    "## Q3: Which destinations did people travel to the most during the summer (July, August and September) of 2013?"
   ],
   "attachments":{
    
   },
   "metadata":{
    "datalore":{
     "node_id":"g6Lbsd7UYq6N3fbgIJRPj6",
     "type":"MD",
     "hide_input_from_viewers":true,
     "hide_output_from_viewers":true
    }
   }
  },
  {
   "cell_type":"code",
   "source":[
    "flights %>%\n",
    "  filter(!is.na(dep_time), year == 2013, month %in% c(7,8,9),) %>%\n",
    "  select(year, month, dest) %>%\n",
    "  group_by(year, month, dest) %>% \n",
    "  summarise(n_filghts = n(), .groups = 'drop') %>%\n",
    "  arrange(desc(n_filghts)) %>%\n",
    "  head(5) %>%\n",
    "  inner_join(airports %>%\n",
    "               select(faa, name),\n",
    "             by = c(\"dest\" = \"faa\"))"
   ],
   "execution_count":6,
   "outputs":[
    {
     "data":{
      "text\/html":[
       "<table class=\"dataframe\">\n",
       "<caption>A tibble: 5 × 5<\/caption>\n",
       "<thead>\n",
       "\t<tr><th scope=col>year<\/th><th scope=col>month<\/th><th scope=col>dest<\/th><th scope=col>n_filghts<\/th><th scope=col>name<\/th><\/tr>\n",
       "\t<tr><th scope=col>&lt;int&gt;<\/th><th scope=col>&lt;int&gt;<\/th><th scope=col>&lt;chr&gt;<\/th><th scope=col>&lt;int&gt;<\/th><th scope=col>&lt;chr&gt;<\/th><\/tr>\n",
       "<\/thead>\n",
       "<tbody>\n",
       "\t<tr><td>2013<\/td><td>8<\/td><td>ORD<\/td><td>1571<\/td><td>Chicago Ohare Intl<\/td><\/tr>\n",
       "\t<tr><td>2013<\/td><td>9<\/td><td>ORD<\/td><td>1517<\/td><td>Chicago Ohare Intl<\/td><\/tr>\n",
       "\t<tr><td>2013<\/td><td>8<\/td><td>LAX<\/td><td>1502<\/td><td>Los Angeles Intl  <\/td><\/tr>\n",
       "\t<tr><td>2013<\/td><td>7<\/td><td>ORD<\/td><td>1499<\/td><td>Chicago Ohare Intl<\/td><\/tr>\n",
       "\t<tr><td>2013<\/td><td>7<\/td><td>LAX<\/td><td>1497<\/td><td>Los Angeles Intl  <\/td><\/tr>\n",
       "<\/tbody>\n",
       "<\/table>\n"
      ]
     },
     "metadata":{
      
     },
     "output_type":"display_data"
    }
   ],
   "metadata":{
    "datalore":{
     "node_id":"ogk9SGLcqopJpr3oYAyn0s",
     "type":"CODE",
     "hide_input_from_viewers":true,
     "hide_output_from_viewers":true
    }
   }
  },
  {
   "cell_type":"markdown",
   "source":[
    "## Q4: Which plane (tailnum) has the worst on-time record?"
   ],
   "attachments":{
    
   },
   "metadata":{
    "datalore":{
     "node_id":"5I6Dhz4X9S7liB43IkwPNq",
     "type":"MD",
     "hide_input_from_viewers":true,
     "hide_output_from_viewers":true
    }
   }
  },
  {
   "cell_type":"code",
   "source":[
    "flights %>%\n",
    "  filter(!is.na(tailnum)) %>%\n",
    "  mutate(on_time = !is.na(arr_time) & (arr_delay <= 0)) %>%\n",
    "  group_by(tailnum) %>%\n",
    "  summarise(on_time = mean(on_time), n = n()) %>%\n",
    "  filter(min_rank(on_time) == 1)"
   ],
   "execution_count":7,
   "outputs":[
    {
     "data":{
      "text\/html":[
       "<table class=\"dataframe\">\n",
       "<caption>A tibble: 110 × 3<\/caption>\n",
       "<thead>\n",
       "\t<tr><th scope=col>tailnum<\/th><th scope=col>on_time<\/th><th scope=col>n<\/th><\/tr>\n",
       "\t<tr><th scope=col>&lt;chr&gt;<\/th><th scope=col>&lt;dbl&gt;<\/th><th scope=col>&lt;int&gt;<\/th><\/tr>\n",
       "<\/thead>\n",
       "<tbody>\n",
       "\t<tr><td>N121DE<\/td><td>0<\/td><td>2<\/td><\/tr>\n",
       "\t<tr><td>N136DL<\/td><td>0<\/td><td>1<\/td><\/tr>\n",
       "\t<tr><td>N143DA<\/td><td>0<\/td><td>1<\/td><\/tr>\n",
       "\t<tr><td>N17627<\/td><td>0<\/td><td>2<\/td><\/tr>\n",
       "\t<tr><td>N240AT<\/td><td>0<\/td><td>5<\/td><\/tr>\n",
       "\t<tr><td>N26906<\/td><td>0<\/td><td>1<\/td><\/tr>\n",
       "\t<tr><td>N295AT<\/td><td>0<\/td><td>4<\/td><\/tr>\n",
       "\t<tr><td>N302AS<\/td><td>0<\/td><td>1<\/td><\/tr>\n",
       "\t<tr><td>N303AS<\/td><td>0<\/td><td>1<\/td><\/tr>\n",
       "\t<tr><td>N32626<\/td><td>0<\/td><td>1<\/td><\/tr>\n",
       "\t<tr><td>N340LV<\/td><td>0<\/td><td>2<\/td><\/tr>\n",
       "\t<tr><td>N345SA<\/td><td>0<\/td><td>3<\/td><\/tr>\n",
       "\t<tr><td>N347SW<\/td><td>0<\/td><td>1<\/td><\/tr>\n",
       "\t<tr><td>N383SW<\/td><td>0<\/td><td>4<\/td><\/tr>\n",
       "\t<tr><td>N392SW<\/td><td>0<\/td><td>5<\/td><\/tr>\n",
       "\t<tr><td>N3LFAA<\/td><td>0<\/td><td>1<\/td><\/tr>\n",
       "\t<tr><td>N427SW<\/td><td>0<\/td><td>1<\/td><\/tr>\n",
       "\t<tr><td>N451UW<\/td><td>0<\/td><td>1<\/td><\/tr>\n",
       "\t<tr><td>N511SW<\/td><td>0<\/td><td>2<\/td><\/tr>\n",
       "\t<tr><td>N521SW<\/td><td>0<\/td><td>1<\/td><\/tr>\n",
       "\t<tr><td>N524SW<\/td><td>0<\/td><td>2<\/td><\/tr>\n",
       "\t<tr><td>N569AS<\/td><td>0<\/td><td>1<\/td><\/tr>\n",
       "\t<tr><td>N587NW<\/td><td>0<\/td><td>1<\/td><\/tr>\n",
       "\t<tr><td>N589AS<\/td><td>0<\/td><td>2<\/td><\/tr>\n",
       "\t<tr><td>N595NW<\/td><td>0<\/td><td>1<\/td><\/tr>\n",
       "\t<tr><td>N5ERAA<\/td><td>0<\/td><td>1<\/td><\/tr>\n",
       "\t<tr><td>N601WN<\/td><td>0<\/td><td>2<\/td><\/tr>\n",
       "\t<tr><td>N610WN<\/td><td>0<\/td><td>4<\/td><\/tr>\n",
       "\t<tr><td>N617SW<\/td><td>0<\/td><td>3<\/td><\/tr>\n",
       "\t<tr><td>N622AW<\/td><td>0<\/td><td>1<\/td><\/tr>\n",
       "\t<tr><td>⋮<\/td><td>⋮<\/td><td>⋮<\/td><\/tr>\n",
       "\t<tr><td>N851NW<\/td><td>0<\/td><td>1<\/td><\/tr>\n",
       "\t<tr><td>N8618N<\/td><td>0<\/td><td>1<\/td><\/tr>\n",
       "\t<tr><td>N8620H<\/td><td>0<\/td><td>2<\/td><\/tr>\n",
       "\t<tr><td>N862DA<\/td><td>0<\/td><td>1<\/td><\/tr>\n",
       "\t<tr><td>N863DA<\/td><td>0<\/td><td>2<\/td><\/tr>\n",
       "\t<tr><td>N865DA<\/td><td>0<\/td><td>1<\/td><\/tr>\n",
       "\t<tr><td>N870AS<\/td><td>0<\/td><td>4<\/td><\/tr>\n",
       "\t<tr><td>N871AS<\/td><td>0<\/td><td>1<\/td><\/tr>\n",
       "\t<tr><td>N881AS<\/td><td>0<\/td><td>1<\/td><\/tr>\n",
       "\t<tr><td>N904DA<\/td><td>0<\/td><td>1<\/td><\/tr>\n",
       "\t<tr><td>N905DA<\/td><td>0<\/td><td>1<\/td><\/tr>\n",
       "\t<tr><td>N906DA<\/td><td>0<\/td><td>2<\/td><\/tr>\n",
       "\t<tr><td>N910FR<\/td><td>0<\/td><td>2<\/td><\/tr>\n",
       "\t<tr><td>N911DA<\/td><td>0<\/td><td>1<\/td><\/tr>\n",
       "\t<tr><td>N913DN<\/td><td>0<\/td><td>1<\/td><\/tr>\n",
       "\t<tr><td>N914DN<\/td><td>0<\/td><td>2<\/td><\/tr>\n",
       "\t<tr><td>N918DH<\/td><td>0<\/td><td>1<\/td><\/tr>\n",
       "\t<tr><td>N921DN<\/td><td>0<\/td><td>1<\/td><\/tr>\n",
       "\t<tr><td>N922EV<\/td><td>0<\/td><td>1<\/td><\/tr>\n",
       "\t<tr><td>N928DN<\/td><td>0<\/td><td>1<\/td><\/tr>\n",
       "\t<tr><td>N930LR<\/td><td>0<\/td><td>3<\/td><\/tr>\n",
       "\t<tr><td>N932DN<\/td><td>0<\/td><td>1<\/td><\/tr>\n",
       "\t<tr><td>N933DN<\/td><td>0<\/td><td>1<\/td><\/tr>\n",
       "\t<tr><td>N937DN<\/td><td>0<\/td><td>1<\/td><\/tr>\n",
       "\t<tr><td>N939DN<\/td><td>0<\/td><td>1<\/td><\/tr>\n",
       "\t<tr><td>N943DN<\/td><td>0<\/td><td>1<\/td><\/tr>\n",
       "\t<tr><td>N953FR<\/td><td>0<\/td><td>3<\/td><\/tr>\n",
       "\t<tr><td>N960DN<\/td><td>0<\/td><td>3<\/td><\/tr>\n",
       "\t<tr><td>N965DN<\/td><td>0<\/td><td>2<\/td><\/tr>\n",
       "\t<tr><td>N978SW<\/td><td>0<\/td><td>1<\/td><\/tr>\n",
       "<\/tbody>\n",
       "<\/table>\n"
      ]
     },
     "metadata":{
      
     },
     "output_type":"display_data"
    }
   ],
   "metadata":{
    "datalore":{
     "node_id":"f3NRjXjbaYb6MRFiUT6t8r",
     "type":"CODE",
     "hide_input_from_viewers":true,
     "hide_output_from_viewers":true
    }
   }
  },
  {
   "cell_type":"markdown",
   "source":[
    "## Q5: Which airlines had the most canceled flights in 2013?"
   ],
   "attachments":{
    
   },
   "metadata":{
    "datalore":{
     "node_id":"EPbSmaOCqZOo6hPr0G30cK",
     "type":"MD",
     "hide_input_from_viewers":true,
     "hide_output_from_viewers":true
    }
   }
  },
  {
   "cell_type":"code",
   "source":[
    "deptime <- flights %>%                                   \n",
    "  filter(is.na(dep_time)) %>%                               \n",
    "  group_by(carrier) %>%                                     \n",
    "  summarise(canceled_flights = n())                         \n",
    "\n",
    "flights %>% \n",
    "  inner_join(airlines, by = \"carrier\") %>%                  \n",
    "  group_by(carrier, name) %>% \n",
    "  select(carrier, name) %>%                                 \n",
    "  summarise(scheduled_flights = n(), .groups = 'drop') %>%          \n",
    "  inner_join(deptime, by = \"carrier\") %>%                \n",
    "  mutate(canceled_flights_proportion =                      \n",
    "           round((canceled_flights\/scheduled_flights), 3)) %>% \n",
    "  arrange(desc(canceled_flights_proportion)) %>%            \n",
    "  head(5) "
   ],
   "execution_count":8,
   "outputs":[
    {
     "data":{
      "text\/html":[
       "<table class=\"dataframe\">\n",
       "<caption>A tibble: 5 × 5<\/caption>\n",
       "<thead>\n",
       "\t<tr><th scope=col>carrier<\/th><th scope=col>name<\/th><th scope=col>scheduled_flights<\/th><th scope=col>canceled_flights<\/th><th scope=col>canceled_flights_proportion<\/th><\/tr>\n",
       "\t<tr><th scope=col>&lt;chr&gt;<\/th><th scope=col>&lt;chr&gt;<\/th><th scope=col>&lt;int&gt;<\/th><th scope=col>&lt;int&gt;<\/th><th scope=col>&lt;dbl&gt;<\/th><\/tr>\n",
       "<\/thead>\n",
       "<tbody>\n",
       "\t<tr><td>OO<\/td><td>SkyWest Airlines Inc.   <\/td><td>   32<\/td><td>   3<\/td><td>0.094<\/td><\/tr>\n",
       "\t<tr><td>YV<\/td><td>Mesa Airlines Inc.      <\/td><td>  601<\/td><td>  56<\/td><td>0.093<\/td><\/tr>\n",
       "\t<tr><td>9E<\/td><td>Endeavor Air Inc.       <\/td><td>18460<\/td><td>1044<\/td><td>0.057<\/td><\/tr>\n",
       "\t<tr><td>EV<\/td><td>ExpressJet Airlines Inc.<\/td><td>54173<\/td><td>2817<\/td><td>0.052<\/td><\/tr>\n",
       "\t<tr><td>MQ<\/td><td>Envoy Air               <\/td><td>26397<\/td><td>1234<\/td><td>0.047<\/td><\/tr>\n",
       "<\/tbody>\n",
       "<\/table>\n"
      ]
     },
     "metadata":{
      
     },
     "output_type":"display_data"
    }
   ],
   "metadata":{
    "datalore":{
     "node_id":"X2ZazbbSLkApf6k52UkfsS",
     "type":"CODE",
     "hide_input_from_viewers":true,
     "hide_output_from_viewers":true
    }
   }
  }
 ],
 "metadata":{
  "kernelspec":{
   "display_name":"R",
   "language":"r",
   "name":"ir"
  },
  "datalore":{
   "computation_mode":"JUPYTER",
   "package_manager":"conda",
   "base_environment":"minimal",
   "packages":[
    
   ],
   "report_row_ids":[
    
   ],
   "version":3
  }
 },
 "nbformat":4,
 "nbformat_minor":4
}